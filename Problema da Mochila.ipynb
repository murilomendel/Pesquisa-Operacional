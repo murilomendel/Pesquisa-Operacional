{
 "cells": [
  {
   "cell_type": "code",
   "execution_count": 91,
   "metadata": {},
   "outputs": [],
   "source": [
    "import gurobipy as gp\n",
    "import numpy as np\n",
    "import matplotlib.pyplot as plt\n",
    "\n",
    "rnd = np.random"
   ]
  },
  {
   "cell_type": "markdown",
   "metadata": {},
   "source": [
    "# Problema da Mochila\n",
    "\n",
    "O problema de empacotamento, conhecido como problema da mochila, busca:\n",
    "* Dado um conjunto $n$ de caixas menores de peso $w_i$, sendo $i=1,\\ldots,n$, e;\n",
    "* Dado um número ilimitado de caixas maiores $j$ de capacidade $Q$ idênticas entre si; \n",
    "\n",
    "Alocar todas as caixas menores dentro das caixas maiores, de forma que:\n",
    "* A capacidade $C$ da caixa maior não seja excedida, e;\n",
    "* o número de caixas maiores utilizadas seja a menor possível."
   ]
  },
  {
   "cell_type": "markdown",
   "metadata": {},
   "source": [
    "# Modelagem Matemática\n",
    "\n",
    "## Parâmetros\n",
    "\n",
    "$n:$ Número de caixas menores;\n",
    "\n",
    "$B = \\{b_{1}, \\ldots, b_{n}\\}:$ Conjunto de caixas menores;\n",
    "\n",
    "$W = \\{w_{1}, \\ldots, w_{n}\\}:$ Conjunto de pesos das caixas menores;\n",
    "\n",
    "$C = \\{c_{1}, \\ldots, c_{n}\\}:$ Conjunto de comprimentos das caixas menores;\n",
    "\n",
    "$L = \\{l_{1}, \\ldots, l_{n}\\}:$ Conjunto de larguras das caixas menores;\n",
    "\n",
    "$A = \\{a_{1}, \\ldots, a_{n}\\}:$ Conjunto de alturas das caixas menores;\n",
    "\n",
    "$D = \\{d_{1}, \\ldots, d_{n}\\}:$ Conjunto de caixas maiores;\n",
    "\n",
    "$CA:$ Capacidade da caixa maior;\n",
    "\n",
    "$CO:$ Comprimento da caixa maior;\n",
    "\n",
    "$LA:$ Largura da caixa maior;\n",
    "\n",
    "$AL:$ Altura da caixa maior."
   ]
  },
  {
   "cell_type": "code",
   "execution_count": 92,
   "metadata": {
    "scrolled": true
   },
   "outputs": [
    {
     "name": "stdout",
     "output_type": "stream",
     "text": [
      "Quantidade de Caixas Menores: 40\n",
      "Peso das Caixas Menores: [123, 67, 79, 107, 91, 147, 136, 66, 44, 59, 52, 111, 85, 102, 104, 89, 27, 85, 51, 123, 94, 102, 70, 82, 129, 88, 76, 90, 86, 80, 35, 140, 148, 124, 71, 36, 119, 135, 56, 148]\n",
      "Comprimento das Caixas Menores: [646, 750, 765, 278, 228, 445, 292, 941, 421, 425, 476, 607, 338, 428, 716, 280, 561, 556, 317, 216, 541, 599, 200, 509, 895, 929, 901, 828, 217, 464, 465, 308, 472, 285, 390, 807, 894, 234, 551, 395]\n",
      "Capacidade da Caixa Maior: 435\n",
      "Comprimento da Caixa Maior: 2149\n"
     ]
    }
   ],
   "source": [
    "# Gerando valores aleatórios para os parâmetros do problema\n",
    "rnd.seed(777)\n",
    "\n",
    "n = 40 # Quantidade de caixas menores a serem alocadas\n",
    "print(\"Quantidade de Caixas Menores:\",n)\n",
    "\n",
    "\n",
    "peso_caixas_menores = [rnd.randint(20,150) for i in range(1, n+1)]\n",
    "print(\"Peso das Caixas Menores:\", peso_caixas_menores)\n",
    "\n",
    "comprimento_caixas_menores = [rnd.randint(200,1000) for i in range(1, n+1)]\n",
    "print(\"Comprimento das Caixas Menores:\", comprimento_caixas_menores)\n",
    "\n",
    "#largura_caixas_menores = [rnd.randint(200,1000) for i in range(1, n+1)]\n",
    "#print(\"Largura das Caixas Menores:\", largura_caixas_menores)\n",
    "\n",
    "#altura_caixas_menores = [rnd.randint(800,2000) for i in range(1, n+1)]\n",
    "#print(\"Altura das Caixas Menores:\", altura_caixas_menores)\n",
    "\n",
    "\n",
    "CA = rnd.randint(200,500)\n",
    "print(\"Capacidade da Caixa Maior:\", CA)\n",
    "\n",
    "CO = rnd.randint(1000,5000)\n",
    "print(\"Comprimento da Caixa Maior:\", CO)\n",
    "\n",
    "#LA = rnd.randint(1000,3000)\n",
    "#print(\"Largura da Caixa Maior:\", LA)\n",
    "\n",
    "#AL = rnd.randint(2000,3000)\n",
    "#print(\"Altura da Caixa Maior:\", AL)"
   ]
  },
  {
   "cell_type": "code",
   "execution_count": 93,
   "metadata": {},
   "outputs": [
    {
     "name": "stdout",
     "output_type": "stream",
     "text": [
      "Conjunto de Caixas Menores:  ['Caixa_Menor_1', 'Caixa_Menor_2', 'Caixa_Menor_3', 'Caixa_Menor_4', 'Caixa_Menor_5', 'Caixa_Menor_6', 'Caixa_Menor_7', 'Caixa_Menor_8', 'Caixa_Menor_9', 'Caixa_Menor_10', 'Caixa_Menor_11', 'Caixa_Menor_12', 'Caixa_Menor_13', 'Caixa_Menor_14', 'Caixa_Menor_15', 'Caixa_Menor_16', 'Caixa_Menor_17', 'Caixa_Menor_18', 'Caixa_Menor_19', 'Caixa_Menor_20', 'Caixa_Menor_21', 'Caixa_Menor_22', 'Caixa_Menor_23', 'Caixa_Menor_24', 'Caixa_Menor_25', 'Caixa_Menor_26', 'Caixa_Menor_27', 'Caixa_Menor_28', 'Caixa_Menor_29', 'Caixa_Menor_30', 'Caixa_Menor_31', 'Caixa_Menor_32', 'Caixa_Menor_33', 'Caixa_Menor_34', 'Caixa_Menor_35', 'Caixa_Menor_36', 'Caixa_Menor_37', 'Caixa_Menor_38', 'Caixa_Menor_39', 'Caixa_Menor_40']\n",
      "Conjunto de Peso das Caixas Menores: {'Caixa_Menor_1': 123, 'Caixa_Menor_2': 67, 'Caixa_Menor_3': 79, 'Caixa_Menor_4': 107, 'Caixa_Menor_5': 91, 'Caixa_Menor_6': 147, 'Caixa_Menor_7': 136, 'Caixa_Menor_8': 66, 'Caixa_Menor_9': 44, 'Caixa_Menor_10': 59, 'Caixa_Menor_11': 52, 'Caixa_Menor_12': 111, 'Caixa_Menor_13': 85, 'Caixa_Menor_14': 102, 'Caixa_Menor_15': 104, 'Caixa_Menor_16': 89, 'Caixa_Menor_17': 27, 'Caixa_Menor_18': 85, 'Caixa_Menor_19': 51, 'Caixa_Menor_20': 123, 'Caixa_Menor_21': 94, 'Caixa_Menor_22': 102, 'Caixa_Menor_23': 70, 'Caixa_Menor_24': 82, 'Caixa_Menor_25': 129, 'Caixa_Menor_26': 88, 'Caixa_Menor_27': 76, 'Caixa_Menor_28': 90, 'Caixa_Menor_29': 86, 'Caixa_Menor_30': 80, 'Caixa_Menor_31': 35, 'Caixa_Menor_32': 140, 'Caixa_Menor_33': 148, 'Caixa_Menor_34': 124, 'Caixa_Menor_35': 71, 'Caixa_Menor_36': 36, 'Caixa_Menor_37': 119, 'Caixa_Menor_38': 135, 'Caixa_Menor_39': 56, 'Caixa_Menor_40': 148}\n",
      "Conjunto de Comprimentos das Caixas Menores: {'Caixa_Menor_1': 646, 'Caixa_Menor_2': 750, 'Caixa_Menor_3': 765, 'Caixa_Menor_4': 278, 'Caixa_Menor_5': 228, 'Caixa_Menor_6': 445, 'Caixa_Menor_7': 292, 'Caixa_Menor_8': 941, 'Caixa_Menor_9': 421, 'Caixa_Menor_10': 425, 'Caixa_Menor_11': 476, 'Caixa_Menor_12': 607, 'Caixa_Menor_13': 338, 'Caixa_Menor_14': 428, 'Caixa_Menor_15': 716, 'Caixa_Menor_16': 280, 'Caixa_Menor_17': 561, 'Caixa_Menor_18': 556, 'Caixa_Menor_19': 317, 'Caixa_Menor_20': 216, 'Caixa_Menor_21': 541, 'Caixa_Menor_22': 599, 'Caixa_Menor_23': 200, 'Caixa_Menor_24': 509, 'Caixa_Menor_25': 895, 'Caixa_Menor_26': 929, 'Caixa_Menor_27': 901, 'Caixa_Menor_28': 828, 'Caixa_Menor_29': 217, 'Caixa_Menor_30': 464, 'Caixa_Menor_31': 465, 'Caixa_Menor_32': 308, 'Caixa_Menor_33': 472, 'Caixa_Menor_34': 285, 'Caixa_Menor_35': 390, 'Caixa_Menor_36': 807, 'Caixa_Menor_37': 894, 'Caixa_Menor_38': 234, 'Caixa_Menor_39': 551, 'Caixa_Menor_40': 395}\n",
      "Conjunto Máximo possivel de Caixas Maiores:  ['Caixa_Maior_1', 'Caixa_Maior_2', 'Caixa_Maior_3', 'Caixa_Maior_4', 'Caixa_Maior_5', 'Caixa_Maior_6', 'Caixa_Maior_7', 'Caixa_Maior_8', 'Caixa_Maior_9', 'Caixa_Maior_10', 'Caixa_Maior_11', 'Caixa_Maior_12', 'Caixa_Maior_13', 'Caixa_Maior_14', 'Caixa_Maior_15', 'Caixa_Maior_16', 'Caixa_Maior_17', 'Caixa_Maior_18', 'Caixa_Maior_19', 'Caixa_Maior_20', 'Caixa_Maior_21', 'Caixa_Maior_22', 'Caixa_Maior_23', 'Caixa_Maior_24', 'Caixa_Maior_25', 'Caixa_Maior_26', 'Caixa_Maior_27', 'Caixa_Maior_28', 'Caixa_Maior_29', 'Caixa_Maior_30', 'Caixa_Maior_31', 'Caixa_Maior_32', 'Caixa_Maior_33', 'Caixa_Maior_34', 'Caixa_Maior_35', 'Caixa_Maior_36', 'Caixa_Maior_37', 'Caixa_Maior_38', 'Caixa_Maior_39', 'Caixa_Maior_40']\n"
     ]
    }
   ],
   "source": [
    "B = [\"Caixa_Menor_{}\".format(i) for i in range(1, n+1)]\n",
    "print(\"Conjunto de Caixas Menores: \",B)\n",
    "\n",
    "W = dict()\n",
    "for i in enumerate(B):\n",
    "    W[i[1]] = peso_caixas_menores[i[0]]\n",
    "print(\"Conjunto de Peso das Caixas Menores:\", W)\n",
    "\n",
    "C = dict()\n",
    "for i in enumerate(B):\n",
    "    C[i[1]] = comprimento_caixas_menores[i[0]]\n",
    "print(\"Conjunto de Comprimentos das Caixas Menores:\", C)\n",
    "\n",
    "D = [\"Caixa_Maior_{}\".format(i) for i in range(1, n+1)]\n",
    "print(\"Conjunto Máximo possivel de Caixas Maiores: \",D)"
   ]
  },
  {
   "cell_type": "markdown",
   "metadata": {},
   "source": [
    "## Implementação do modelo"
   ]
  },
  {
   "cell_type": "code",
   "execution_count": 94,
   "metadata": {},
   "outputs": [],
   "source": [
    "# Implementação do Modelo\n",
    "model = gp.Model(\"Problema da Mochila\")"
   ]
  },
  {
   "cell_type": "markdown",
   "metadata": {},
   "source": [
    "## Variáeis de decisão\n",
    "\n",
    "$x_{ij} \\in \\{0,1\\}$\n",
    "\n",
    "$x_{ij} = \\left\\{ \\begin{array} \\\\ 1 & \\mbox{se a caixa menor } \\  i \\mbox{ foi alocada na caixa maior } \\ j \\\\ 0 & \\mbox{caso contrário} \\end{array} \\right.$\n",
    "\n",
    "$y_{j} \\in \\{0,1\\}$\n",
    "\n",
    "$y_{j} = \\left\\{ \\begin{array} \\\\ 1 & \\mbox{se a caixa maior } \\  j \\mbox{ foi utilizada } \\\\ 0 & \\mbox{caso contrário} \\end{array} \\right.$"
   ]
  },
  {
   "cell_type": "code",
   "execution_count": 95,
   "metadata": {},
   "outputs": [],
   "source": [
    "# Variáveis de decisão\n",
    "x = model.addVars(B, D, vtype = gp.GRB.BINARY)\n",
    "y = model.addVars(D, vtype = gp.GRB.BINARY)"
   ]
  },
  {
   "cell_type": "markdown",
   "metadata": {},
   "source": [
    "## Função Objetivo\n",
    "Minimizar a quantidade $j$ de viagens feitas pelo veículo de transporte.\n",
    "\n",
    "$\\min Z = \\sum_{j=1}^{n} y_j$"
   ]
  },
  {
   "cell_type": "code",
   "execution_count": 96,
   "metadata": {},
   "outputs": [],
   "source": [
    "# Função Objetivo\n",
    "model.setObjective(gp.quicksum(y[j] for j in D), sense = gp.GRB.MINIMIZE)"
   ]
  },
  {
   "cell_type": "markdown",
   "metadata": {},
   "source": [
    "## Restrições:\n",
    "\n",
    "1) A somatória do peso das caixas menores $i$ dentro da caixa maior $j$ não podem exceder a capacidade da caixa maior.A quantidade de caixas maiores está limitada em $n$, sendo o pior caso quando cada caixa maior puder alocar apenas uma caixa menor:\n",
    "\n",
    "$\\sum_{i=1}^{m} w_{i}x_{ij} \\leq W_{y_{j}}, \\forall j = 1, \\ldots, n$ \n",
    "\n"
   ]
  },
  {
   "cell_type": "code",
   "execution_count": 97,
   "metadata": {},
   "outputs": [],
   "source": [
    "# Restriççao 1: Limitação da capacidade da caixa maior\n",
    "c1 = model.addConstrs(gp.quicksum(W[i] * x[i, j] for i in B) <= CA * y[j] for j in D)"
   ]
  },
  {
   "cell_type": "markdown",
   "metadata": {},
   "source": [
    "2) Toda caixa menor $i$ deve necessariamente estar alocado em apenas uma caixa maior $j$:\n",
    "\n",
    "$\\sum_{j=1}^{n}x_{ij} = 1, \\forall i = 1, \\ldots, m$\n",
    "\n"
   ]
  },
  {
   "cell_type": "code",
   "execution_count": 98,
   "metadata": {},
   "outputs": [],
   "source": [
    "#Restrição 2: Todas as caixas menores devem estar alocadas em uma caixa maior\n",
    "c2 = model.addConstrs(gp.quicksum(x[i,j] for j in D) == 1 for i in B)"
   ]
  },
  {
   "cell_type": "markdown",
   "metadata": {},
   "source": [
    "3) A somatória do comprimento das caixas menores $i$ dentro da caixa maior $j$ não podem exceder o comprimento disponível da caixa maior. A restrição está limitada em $n$, sendo o pior caso, onde será necessário colocar apenas uma caixa menor em cada caixa maior:\n",
    "\n",
    "$\\sum_{i=1}^{m} c_{i}x_{ij} \\leq CO_{y_{j}}, \\forall j = 1, \\ldots, n$ "
   ]
  },
  {
   "cell_type": "code",
   "execution_count": 99,
   "metadata": {
    "scrolled": true
   },
   "outputs": [],
   "source": [
    "\n",
    "# Restriççao de limitação do comprimento da caixa maior\n",
    "c3 = model.addConstrs(gp.quicksum(C[i] * x[i, j] for i in B) <= CO * y[j] for j in D)"
   ]
  },
  {
   "cell_type": "code",
   "execution_count": 100,
   "metadata": {
    "scrolled": true
   },
   "outputs": [
    {
     "name": "stdout",
     "output_type": "stream",
     "text": [
      "Gurobi Optimizer version 9.1.2 build v9.1.2rc0 (win64)\n",
      "Thread count: 4 physical cores, 8 logical processors, using up to 8 threads\n",
      "Optimize a model with 120 rows, 1640 columns and 4880 nonzeros\n",
      "Model fingerprint: 0xce7f3f4b\n",
      "Variable types: 0 continuous, 1640 integer (1640 binary)\n",
      "Coefficient statistics:\n",
      "  Matrix range     [1e+00, 2e+03]\n",
      "  Objective range  [1e+00, 1e+00]\n",
      "  Bounds range     [1e+00, 1e+00]\n",
      "  RHS range        [1e+00, 1e+00]\n",
      "Found heuristic solution: objective 24.0000000\n",
      "Presolve time: 0.01s\n",
      "Presolved: 120 rows, 1640 columns, 4880 nonzeros\n",
      "Variable types: 0 continuous, 1640 integer (1640 binary)\n",
      "\n",
      "Root relaxation: objective 9.571894e+00, 390 iterations, 0.01 seconds\n",
      "\n",
      "    Nodes    |    Current Node    |     Objective Bounds      |     Work\n",
      " Expl Unexpl |  Obj  Depth IntInf | Incumbent    BestBd   Gap | It/Node Time\n",
      "\n",
      "     0     0    9.57189    0   16   24.00000    9.57189  60.1%     -    0s\n",
      "H    0     0                      13.0000000    9.57189  26.4%     -    0s\n",
      "H    0     0                      12.0000000    9.57189  20.2%     -    0s\n",
      "H    0     0                      11.0000000    9.57189  13.0%     -    0s\n",
      "     0     0    9.57189    0   39   11.00000    9.57189  13.0%     -    0s\n",
      "H    0     0                      10.0000000    9.57189  4.28%     -    0s\n",
      "     0     0    9.57189    0   29   10.00000    9.57189  4.28%     -    0s\n",
      "\n",
      "Cutting planes:\n",
      "  Cover: 16\n",
      "  Clique: 14\n",
      "  MIR: 9\n",
      "  StrongCG: 14\n",
      "\n",
      "Explored 1 nodes (1250 simplex iterations) in 0.14 seconds\n",
      "Thread count was 8 (of 8 available processors)\n",
      "\n",
      "Solution count 5: 10 11 12 ... 24\n",
      "\n",
      "Optimal solution found (tolerance 1.00e-04)\n",
      "Best objective 1.000000000000e+01, best bound 1.000000000000e+01, gap 0.0000%\n"
     ]
    }
   ],
   "source": [
    "model.optimize()"
   ]
  },
  {
   "cell_type": "code",
   "execution_count": 101,
   "metadata": {
    "scrolled": false
   },
   "outputs": [
    {
     "name": "stdout",
     "output_type": "stream",
     "text": [
      "Caixa_Maior_1\n",
      "Caixa_Menor_9  Caixa_Menor_11  Caixa_Menor_12  Caixa_Menor_21  \n",
      "\n",
      "Caixa_Maior_2\n",
      "\n",
      "\n",
      "Caixa_Maior_3\n",
      "Caixa_Menor_1  Caixa_Menor_5  Caixa_Menor_15  Caixa_Menor_18  \n",
      "\n",
      "Caixa_Maior_4\n",
      "\n",
      "\n",
      "Caixa_Maior_5\n",
      "\n",
      "\n",
      "Caixa_Maior_6\n",
      "\n",
      "\n",
      "Caixa_Maior_7\n",
      "\n",
      "\n",
      "Caixa_Maior_8\n",
      "\n",
      "\n",
      "Caixa_Maior_9\n",
      "Caixa_Menor_3  Caixa_Menor_4  Caixa_Menor_36  Caixa_Menor_38  \n",
      "\n",
      "Caixa_Maior_10\n",
      "Caixa_Menor_28  Caixa_Menor_29  Caixa_Menor_30  Caixa_Menor_33  \n",
      "\n",
      "Caixa_Maior_11\n",
      "\n",
      "\n",
      "Caixa_Maior_12\n",
      "\n",
      "\n",
      "Caixa_Maior_13\n",
      "\n",
      "\n",
      "Caixa_Maior_14\n",
      "\n",
      "\n",
      "Caixa_Maior_15\n",
      "\n",
      "\n",
      "Caixa_Maior_16\n",
      "\n",
      "\n",
      "Caixa_Maior_17\n",
      "Caixa_Menor_13  Caixa_Menor_16  Caixa_Menor_31  Caixa_Menor_35  Caixa_Menor_39  \n",
      "\n",
      "Caixa_Maior_18\n",
      "\n",
      "\n",
      "Caixa_Maior_19\n",
      "\n",
      "\n",
      "Caixa_Maior_20\n",
      "\n",
      "\n",
      "Caixa_Maior_21\n",
      "Caixa_Menor_23  Caixa_Menor_24  Caixa_Menor_26  Caixa_Menor_40  \n",
      "\n",
      "Caixa_Maior_22\n",
      "\n",
      "\n",
      "Caixa_Maior_23\n",
      "\n",
      "\n",
      "Caixa_Maior_24\n",
      "Caixa_Menor_6  Caixa_Menor_7  Caixa_Menor_10  Caixa_Menor_27  \n",
      "\n",
      "Caixa_Maior_25\n",
      "\n",
      "\n",
      "Caixa_Maior_26\n",
      "\n",
      "\n",
      "Caixa_Maior_27\n",
      "Caixa_Menor_8  Caixa_Menor_34  Caixa_Menor_37  \n",
      "\n",
      "Caixa_Maior_28\n",
      "\n",
      "\n",
      "Caixa_Maior_29\n",
      "\n",
      "\n",
      "Caixa_Maior_30\n",
      "\n",
      "\n",
      "Caixa_Maior_31\n",
      "\n",
      "\n",
      "Caixa_Maior_32\n",
      "\n",
      "\n",
      "Caixa_Maior_33\n",
      "\n",
      "\n",
      "Caixa_Maior_34\n",
      "\n",
      "\n",
      "Caixa_Maior_35\n",
      "\n",
      "\n",
      "Caixa_Maior_36\n",
      "Caixa_Menor_2  Caixa_Menor_17  Caixa_Menor_20  Caixa_Menor_22  \n",
      "\n",
      "Caixa_Maior_37\n",
      "\n",
      "\n",
      "Caixa_Maior_38\n",
      "\n",
      "\n",
      "Caixa_Maior_39\n",
      "\n",
      "\n",
      "Caixa_Maior_40\n",
      "Caixa_Menor_14  Caixa_Menor_19  Caixa_Menor_25  Caixa_Menor_32  \n",
      "\n"
     ]
    }
   ],
   "source": [
    "# Solução Ótima Encontrada\n",
    "for CxMa in D:\n",
    "    print(CxMa)\n",
    "    for CxMe in B:\n",
    "        if round(x[CxMe, CxMa].X) == 1:\n",
    "            print(CxMe, \" \", end=\"\")\n",
    "    print(\"\\n\")"
   ]
  }
 ],
 "metadata": {
  "kernelspec": {
   "display_name": "Python 3",
   "language": "python",
   "name": "python3"
  },
  "language_info": {
   "codemirror_mode": {
    "name": "ipython",
    "version": 3
   },
   "file_extension": ".py",
   "mimetype": "text/x-python",
   "name": "python",
   "nbconvert_exporter": "python",
   "pygments_lexer": "ipython3",
   "version": "3.6.2"
  }
 },
 "nbformat": 4,
 "nbformat_minor": 4
}
